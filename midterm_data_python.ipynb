{
 "cells": [
  {
   "cell_type": "code",
   "execution_count": 111,
   "metadata": {},
   "outputs": [
    {
     "name": "stdout",
     "output_type": "stream",
     "text": [
      "                   Ticker                      Industry\n",
      "3i                    III            Financial Services\n",
      "Admiral Group         ADM             Nonlife Insurance\n",
      "Anglo American plc    AAL                        Mining\n",
      "Antofagasta          ANTO                        Mining\n",
      "Ashtead Group         AHT              Support Services\n",
      "...                   ...                           ...\n",
      "Unilever             ULVR                Personal Goods\n",
      "United Utilities      UU.  Gas, Water & Multi-utilities\n",
      "Vodafone Group        VOD     Mobile Telecommunications\n",
      "Whitbread             WTB            Retail hospitality\n",
      "WPP plc               WPP                         Media\n",
      "\n",
      "[100 rows x 2 columns]\n"
     ]
    }
   ],
   "source": [
    "import requests\n",
    "from bs4 import BeautifulSoup\n",
    "import pandas as pd\n",
    "import numpy as np\n",
    "import matplotlib.pyplot as plt\n",
    "\n",
    "# Part I\n",
    "url = 'https://en.wikipedia.org/wiki/FTSE_100_Index'\n",
    "r = requests.get(url)\n",
    "soup = BeautifulSoup(r.content, 'html.parser')\n",
    "\n",
    "table_constituents = soup.find('table', {'id': 'constituents'}).find('tbody')\n",
    "\n",
    "# Creates dict with ticker as key and industry as value\n",
    "table = {}\n",
    "for tr in table_constituents.find_all('tr'):\n",
    "    tds = tr.find_all('td')\n",
    "    if len(tds) == 3:\n",
    "        table[tds[0].text] = [tds[1].text, tds[2].text.replace('\\n', '')]\n",
    "\n",
    "\n",
    "df_scrape = pd.DataFrame.from_dict(table, orient='index',  columns=['Ticker', 'Industry'])"
   ]
  },
  {
   "cell_type": "code",
   "execution_count": 106,
   "metadata": {},
   "outputs": [
    {
     "name": "stdout",
     "output_type": "stream",
     "text": [
      "83d852410d\n",
      "  company                                               data\n",
      "0     IHG  [{'Date': '2019-01-02', 'Open': '56.8177032470...\n",
      "1     BHP  [{'Date': '2019-01-02', 'Open': '46.6399993896...\n",
      "2     NWG  [{'Date': '2019-01-02', 'Open': '5.38999986648...\n",
      "3     CPG  [{'Date': '2019-01-02', 'Open': '2.94000005722...\n",
      "4    TSCO  [{'Date': '2019-01-02', 'Open': '81.8099975585...\n"
     ]
    }
   ],
   "source": [
    "# Part II\n",
    "import json\n",
    "\n",
    "api_address = 'https://ies-midterm.soulution.rocks/'\n",
    "login = {'cuni': '80119387'}\n",
    "\n",
    "# Logins to website\n",
    "r2 = requests.post(api_address+'login/', json.dumps(login))\n",
    "\n",
    "r2_as_json = r2.json()\n",
    "\n",
    "personal_code = r2_as_json['data']['personal_code']\n",
    "dataset_ids = r2_as_json['data']['dataset_ids']\n",
    "dataset_ids = dataset_ids[0]\n",
    "print(personal_code)\n",
    "\n",
    "# Gets codes from api_address using GET method \n",
    "list_of_data = []\n",
    "for code in dataset_ids:\n",
    "    while True:\n",
    "        r3 = requests.get(f\"{api_address}data/{code}\")\n",
    "        if len(r3.json()['data']) > 0:\n",
    "               list_of_data.append(r3.json()['data'])\n",
    "               break\n",
    "    \n",
    "# Converting list to DataFrame\n",
    "df = pd.DataFrame(list_of_data)\n",
    "print(df)"
   ]
  },
  {
   "cell_type": "code",
   "execution_count": 157,
   "metadata": {},
   "outputs": [
    {
     "name": "stdout",
     "output_type": "stream",
     "text": [
      "Most represented:  Support Services\n",
      "Least represented:  Construction & Materials\n",
      "Hist: AxesSubplot(0.125,0.125;0.775x0.755)\n",
      "company\n",
      "data\n"
     ]
    },
    {
     "data": {
      "image/png": "[encoded data removed]",
      "text/plain": [
       "<Figure size 432x288 with 1 Axes>"
      ]
     },
     "metadata": {
      "needs_background": "light"
     },
     "output_type": "display_data"
    }
   ],
   "source": [
    "# Part III - unfortunately I did not have enough time to finish this part\n",
    "most_represented = df_scrape['Industry'].value_counts().idxmax()\n",
    "least_represented = df_scrape['Industry'].value_counts().idxmin()\n",
    "\n",
    "print(\"Most represented: \", most_represented)\n",
    "print(\"Least represented: \",least_represented)\n",
    "\n",
    "print(\"Hist:\", df_scrape['Industry'].hist())"
   ]
  }
 ],
 "metadata": {
  "kernelspec": {
   "display_name": "Python 3",
   "language": "python",
   "name": "python3"
  },
  "language_info": {
   "codemirror_mode": {
    "name": "ipython",
    "version": 3
   },
   "file_extension": ".py",
   "mimetype": "text/x-python",
   "name": "python",
   "nbconvert_exporter": "python",
   "pygments_lexer": "ipython3",
   "version": "3.8.3"
  }
 },
 "nbformat": 4,
 "nbformat_minor": 4
}
